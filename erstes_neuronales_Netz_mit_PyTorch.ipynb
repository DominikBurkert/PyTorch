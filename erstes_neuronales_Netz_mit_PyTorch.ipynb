{
  "nbformat": 4,
  "nbformat_minor": 0,
  "metadata": {
    "colab": {
      "name": "erstes neuronales Netz mit PyTorch",
      "provenance": [],
      "authorship_tag": "ABX9TyOk1k4xDKpTgZf4Af8iRC+L",
      "include_colab_link": true
    },
    "kernelspec": {
      "name": "python3",
      "display_name": "Python 3"
    }
  },
  "cells": [
    {
      "cell_type": "markdown",
      "metadata": {
        "id": "view-in-github",
        "colab_type": "text"
      },
      "source": [
        "<a href=\"https://colab.research.google.com/github/DominikBurkert/PyTorch/blob/master/erstes_neuronales_Netz_mit_PyTorch.ipynb\" target=\"_parent\"><img src=\"https://colab.research.google.com/assets/colab-badge.svg\" alt=\"Open In Colab\"/></a>"
      ]
    },
    {
      "cell_type": "code",
      "metadata": {
        "id": "GJd6OfEmliph"
      },
      "source": [
        "# imports\r\n",
        "import torch\r\n",
        "import torch.nn as nn\r\n",
        "import torch.nn.functional as F\r\n",
        "from torch.autograd import Variable\r\n",
        "import torch.optim as optim"
      ],
      "execution_count": 1,
      "outputs": []
    },
    {
      "cell_type": "markdown",
      "metadata": {
        "id": "fNwhXNLkqAyO"
      },
      "source": [
        "Netz aufsetzen\r\n",
        "-> Netz mit 2 Linear-Layer mit einer relu aktivierungsfunktion"
      ]
    },
    {
      "cell_type": "code",
      "metadata": {
        "colab": {
          "base_uri": "https://localhost:8080/"
        },
        "id": "bXzrReUSlsKl",
        "outputId": "46831183-33d9-4e51-c83c-e33f24c89ad4"
      },
      "source": [
        "class MeinNetz(nn.Module):\r\n",
        "  def __init__(self): #hier wird angegeben was man zur Verfügung hat bzw. die architektur\r\n",
        "    super(MeinNetz, self).__init__()\r\n",
        "\r\n",
        "    #layer\r\n",
        "    self.lin1 = nn.Linear(10, 10)\r\n",
        "    self.lin2 = nn.Linear(10, 10)\r\n",
        "\r\n",
        "  def forward(self, x): #hier wird angegeben was bei der forward propagation passieren soll. x ist der input\r\n",
        "    x = F.relu(self.lin1(x))\r\n",
        "    x = self.lin2(x)\r\n",
        "    return x\r\n",
        "\r\n",
        "netz = MeinNetz()\r\n",
        "print(netz)"
      ],
      "execution_count": 2,
      "outputs": [
        {
          "output_type": "stream",
          "text": [
            "MeinNetz(\n",
            "  (lin1): Linear(in_features=10, out_features=10, bias=True)\n",
            "  (lin2): Linear(in_features=10, out_features=10, bias=True)\n",
            ")\n"
          ],
          "name": "stdout"
        }
      ]
    },
    {
      "cell_type": "markdown",
      "metadata": {
        "id": "U9zeehpVjM2E"
      },
      "source": [
        "Erstellung der Daten"
      ]
    },
    {
      "cell_type": "code",
      "metadata": {
        "id": "WgcfTpmQjLvW"
      },
      "source": [
        "#wie soll der fehler berechnet werden? (softmax, mean-squared-error(MSELoss), CrossEntropyLoss)\r\n",
        "criterion = nn.MSELoss()\r\n",
        "\r\n",
        "\"\"\"Inputdaten für das Netz\"\"\"\r\n",
        "x = [1,0,0,0,1,0,0,0,1,1]\r\n",
        "input = torch.Tensor([x for _ in range(10)])\r\n",
        "#print(input)\r\n",
        "\r\n",
        "\"\"\"    Target-Daten (diese Daten sollen am Ende rauskommen -> hier: alle Zahlen einmal drehen. aus 0->1, aus 1->0) \"\"\"\r\n",
        "x = [0,1,1,1,0,1,1,1,0,0]\r\n",
        "#print(x)\r\n",
        "target = torch.Tensor([x for _ in range(10)]) #target sind die Daten die man am ende haben will\r\n",
        "#print(target)\r\n"
      ],
      "execution_count": 107,
      "outputs": []
    },
    {
      "cell_type": "markdown",
      "metadata": {
        "id": "Y58ZlEXpjPtj"
      },
      "source": [
        "Training"
      ]
    },
    {
      "cell_type": "code",
      "metadata": {
        "colab": {
          "base_uri": "https://localhost:8080/"
        },
        "id": "chXEWDZUvXvD",
        "outputId": "f42496dc-0e17-4b92-9ba9-4e4b6bb5e2eb"
      },
      "source": [
        "for i in range(10): #num of epochs\r\n",
        "\r\n",
        "  out = netz(input)#einmal netz durchlaufen\r\n",
        "  loss = criterion(out, target) #vergleich von output(aus dem netz, Vorhersage) und target (echter Output) -> berechnung des fehlers\r\n",
        "  print(loss)\r\n",
        "\r\n",
        "  netz.zero_grad() #wenn man das nicht macht, wird der fehler vom letzen mal und von diesem mal gelernt\r\n",
        "  loss.backward()\r\n",
        "  optimizer = optim.SGD(netz.parameters(), lr=0.10)\r\n",
        "  optimizer.step()"
      ],
      "execution_count": 108,
      "outputs": [
        {
          "output_type": "stream",
          "text": [
            "tensor(0.6559, grad_fn=<MseLossBackward>)\n",
            "tensor(0.6057, grad_fn=<MseLossBackward>)\n",
            "tensor(0.5589, grad_fn=<MseLossBackward>)\n",
            "tensor(0.5143, grad_fn=<MseLossBackward>)\n",
            "tensor(0.4713, grad_fn=<MseLossBackward>)\n",
            "tensor(0.4294, grad_fn=<MseLossBackward>)\n",
            "tensor(0.3885, grad_fn=<MseLossBackward>)\n",
            "tensor(0.3486, grad_fn=<MseLossBackward>)\n",
            "tensor(0.3098, grad_fn=<MseLossBackward>)\n",
            "tensor(0.2725, grad_fn=<MseLossBackward>)\n"
          ],
          "name": "stdout"
        }
      ]
    },
    {
      "cell_type": "code",
      "metadata": {
        "colab": {
          "base_uri": "https://localhost:8080/"
        },
        "id": "xBa0gssLgCuz",
        "outputId": "8869d706-f848-4b0b-b95f-1c42a952e3eb"
      },
      "source": [
        "\r\n",
        "print(\"Vorhersage: \\n\", torch.round(out))\r\n",
        "print(\"Ziel: \\n\", target)"
      ],
      "execution_count": 109,
      "outputs": [
        {
          "output_type": "stream",
          "text": [
            "Vorhersage: \n",
            " tensor([[-0., 0., 0., 0., -0., 1., 0., 1., -0., -0.],\n",
            "        [-0., 0., 0., 0., -0., 1., 0., 1., -0., -0.],\n",
            "        [-0., 0., 0., 0., -0., 1., 0., 1., -0., -0.],\n",
            "        [-0., 0., 0., 0., -0., 1., 0., 1., -0., -0.],\n",
            "        [-0., 0., 0., 0., -0., 1., 0., 1., -0., -0.],\n",
            "        [-0., 0., 0., 0., -0., 1., 0., 1., -0., -0.],\n",
            "        [-0., 0., 0., 0., -0., 1., 0., 1., -0., -0.],\n",
            "        [-0., 0., 0., 0., -0., 1., 0., 1., -0., -0.],\n",
            "        [-0., 0., 0., 0., -0., 1., 0., 1., -0., -0.],\n",
            "        [-0., 0., 0., 0., -0., 1., 0., 1., -0., -0.]], grad_fn=<RoundBackward>)\n",
            "Ziel: \n",
            " tensor([[0., 1., 1., 1., 0., 1., 1., 1., 0., 0.],\n",
            "        [0., 1., 1., 1., 0., 1., 1., 1., 0., 0.],\n",
            "        [0., 1., 1., 1., 0., 1., 1., 1., 0., 0.],\n",
            "        [0., 1., 1., 1., 0., 1., 1., 1., 0., 0.],\n",
            "        [0., 1., 1., 1., 0., 1., 1., 1., 0., 0.],\n",
            "        [0., 1., 1., 1., 0., 1., 1., 1., 0., 0.],\n",
            "        [0., 1., 1., 1., 0., 1., 1., 1., 0., 0.],\n",
            "        [0., 1., 1., 1., 0., 1., 1., 1., 0., 0.],\n",
            "        [0., 1., 1., 1., 0., 1., 1., 1., 0., 0.],\n",
            "        [0., 1., 1., 1., 0., 1., 1., 1., 0., 0.]])\n"
          ],
          "name": "stdout"
        }
      ]
    }
  ]
}