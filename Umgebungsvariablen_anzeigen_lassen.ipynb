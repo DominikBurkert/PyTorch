{
  "nbformat": 4,
  "nbformat_minor": 0,
  "metadata": {
    "colab": {
      "name": "Umgebungsvariablen anzeigen lassen",
      "provenance": [],
      "collapsed_sections": [],
      "authorship_tag": "ABX9TyOyqDrS3ilOkjtrO10QfdVQ",
      "include_colab_link": true
    },
    "kernelspec": {
      "name": "python3",
      "display_name": "Python 3"
    }
  },
  "cells": [
    {
      "cell_type": "markdown",
      "metadata": {
        "id": "view-in-github",
        "colab_type": "text"
      },
      "source": [
        "<a href=\"https://colab.research.google.com/github/DominikBurkert/PyTorch/blob/master/Umgebungsvariablen_anzeigen_lassen.ipynb\" target=\"_parent\"><img src=\"https://colab.research.google.com/assets/colab-badge.svg\" alt=\"Open In Colab\"/></a>"
      ]
    },
    {
      "cell_type": "markdown",
      "metadata": {
        "id": "n_Q_MD0KdpyW"
      },
      "source": [
        "1. Step"
      ]
    },
    {
      "cell_type": "code",
      "metadata": {
        "id": "C0vbZ4Lbdakg"
      },
      "source": [
        "from google.colab import output\r\n",
        "#I don't know why nbextensions don't work with python3.6 \r\n",
        "with output.temporary():\r\n",
        "  !pip install --upgrade git+https://github.com/Kreijstal/colab_inspector.git \r\n",
        "  !python2.7 -m pip install --upgrade git+https://github.com/blois/colab_inspector.git #yes, really.\r\n",
        "  !jupyter nbextension install --py inspector\r\n",
        "\r\n",
        "import inspector\r\n",
        "\r\n",
        "\r\n",
        "#declare some variables\r\n",
        "a = 3\r\n",
        "b = 4\r\n",
        "c = 5\r\n",
        "\r\n",
        "# open a scratch cell (Ctrl+Alt+N)\r\n",
        "# run there\r\n",
        "# inspector.watch_globals()"
      ],
      "execution_count": 2,
      "outputs": []
    },
    {
      "cell_type": "markdown",
      "metadata": {
        "id": "-2S2KY4vdtFH"
      },
      "source": [
        "2. Step - open a scratch cell (Ctrl+Alt+N) and run inspector.watch_globals()"
      ]
    },
    {
      "cell_type": "code",
      "metadata": {
        "id": "bDEp33nQdvYc"
      },
      "source": [
        ""
      ],
      "execution_count": null,
      "outputs": []
    }
  ]
}